{
 "cells": [
  {
   "cell_type": "code",
   "execution_count": 1,
   "metadata": {},
   "outputs": [
    {
     "name": "stdout",
     "output_type": "stream",
     "text": [
      "Requirement already satisfied: google-auth in c:\\users\\andre\\anaconda3\\envs\\rsp_env\\lib\\site-packages (2.40.3)\n",
      "Requirement already satisfied: google-auth-oauthlib in c:\\users\\andre\\anaconda3\\envs\\rsp_env\\lib\\site-packages (1.2.2)\n",
      "Requirement already satisfied: google-auth-httplib2 in c:\\users\\andre\\anaconda3\\envs\\rsp_env\\lib\\site-packages (0.2.0)\n",
      "Requirement already satisfied: google-api-python-client in c:\\users\\andre\\anaconda3\\envs\\rsp_env\\lib\\site-packages (2.176.0)\n",
      "Requirement already satisfied: cachetools<6.0,>=2.0.0 in c:\\users\\andre\\anaconda3\\envs\\rsp_env\\lib\\site-packages (from google-auth) (5.5.2)\n",
      "Requirement already satisfied: pyasn1-modules>=0.2.1 in c:\\users\\andre\\anaconda3\\envs\\rsp_env\\lib\\site-packages (from google-auth) (0.4.2)\n",
      "Requirement already satisfied: rsa<5,>=3.1.4 in c:\\users\\andre\\anaconda3\\envs\\rsp_env\\lib\\site-packages (from google-auth) (4.9.1)\n",
      "Requirement already satisfied: requests-oauthlib>=0.7.0 in c:\\users\\andre\\anaconda3\\envs\\rsp_env\\lib\\site-packages (from google-auth-oauthlib) (2.0.0)\n",
      "Requirement already satisfied: httplib2>=0.19.0 in c:\\users\\andre\\anaconda3\\envs\\rsp_env\\lib\\site-packages (from google-auth-httplib2) (0.22.0)\n",
      "Requirement already satisfied: google-api-core!=2.0.*,!=2.1.*,!=2.2.*,!=2.3.0,<3.0.0,>=1.31.5 in c:\\users\\andre\\anaconda3\\envs\\rsp_env\\lib\\site-packages (from google-api-python-client) (2.24.0)\n",
      "Requirement already satisfied: uritemplate<5,>=3.0.1 in c:\\users\\andre\\anaconda3\\envs\\rsp_env\\lib\\site-packages (from google-api-python-client) (4.1.1)\n",
      "Requirement already satisfied: googleapis-common-protos<2.0.dev0,>=1.56.2 in c:\\users\\andre\\anaconda3\\envs\\rsp_env\\lib\\site-packages (from google-api-core!=2.0.*,!=2.1.*,!=2.2.*,!=2.3.0,<3.0.0,>=1.31.5->google-api-python-client) (1.70.0)\n",
      "Requirement already satisfied: protobuf!=3.20.0,!=3.20.1,!=4.21.0,!=4.21.1,!=4.21.2,!=4.21.3,!=4.21.4,!=4.21.5,<6.0.0.dev0,>=3.19.5 in c:\\users\\andre\\anaconda3\\envs\\rsp_env\\lib\\site-packages (from google-api-core!=2.0.*,!=2.1.*,!=2.2.*,!=2.3.0,<3.0.0,>=1.31.5->google-api-python-client) (4.25.8)\n",
      "Requirement already satisfied: proto-plus<2.0.0dev,>=1.22.3 in c:\\users\\andre\\anaconda3\\envs\\rsp_env\\lib\\site-packages (from google-api-core!=2.0.*,!=2.1.*,!=2.2.*,!=2.3.0,<3.0.0,>=1.31.5->google-api-python-client) (1.26.1)\n",
      "Requirement already satisfied: requests<3.0.0.dev0,>=2.18.0 in c:\\users\\andre\\anaconda3\\envs\\rsp_env\\lib\\site-packages (from google-api-core!=2.0.*,!=2.1.*,!=2.2.*,!=2.3.0,<3.0.0,>=1.31.5->google-api-python-client) (2.31.0)\n",
      "Requirement already satisfied: pyparsing!=3.0.0,!=3.0.1,!=3.0.2,!=3.0.3,<4,>=2.4.2 in c:\\users\\andre\\anaconda3\\envs\\rsp_env\\lib\\site-packages (from httplib2>=0.19.0->google-auth-httplib2) (3.2.3)\n",
      "Requirement already satisfied: pyasn1<0.7.0,>=0.6.1 in c:\\users\\andre\\anaconda3\\envs\\rsp_env\\lib\\site-packages (from pyasn1-modules>=0.2.1->google-auth) (0.6.1)\n",
      "Requirement already satisfied: oauthlib>=3.0.0 in c:\\users\\andre\\anaconda3\\envs\\rsp_env\\lib\\site-packages (from requests-oauthlib>=0.7.0->google-auth-oauthlib) (3.2.2)\n",
      "Requirement already satisfied: charset-normalizer<4,>=2 in c:\\users\\andre\\anaconda3\\envs\\rsp_env\\lib\\site-packages (from requests<3.0.0.dev0,>=2.18.0->google-api-core!=2.0.*,!=2.1.*,!=2.2.*,!=2.3.0,<3.0.0,>=1.31.5->google-api-python-client) (3.4.1)\n",
      "Requirement already satisfied: idna<4,>=2.5 in c:\\users\\andre\\anaconda3\\envs\\rsp_env\\lib\\site-packages (from requests<3.0.0.dev0,>=2.18.0->google-api-core!=2.0.*,!=2.1.*,!=2.2.*,!=2.3.0,<3.0.0,>=1.31.5->google-api-python-client) (3.10)\n",
      "Requirement already satisfied: urllib3<3,>=1.21.1 in c:\\users\\andre\\anaconda3\\envs\\rsp_env\\lib\\site-packages (from requests<3.0.0.dev0,>=2.18.0->google-api-core!=2.0.*,!=2.1.*,!=2.2.*,!=2.3.0,<3.0.0,>=1.31.5->google-api-python-client) (1.26.20)\n",
      "Requirement already satisfied: certifi>=2017.4.17 in c:\\users\\andre\\anaconda3\\envs\\rsp_env\\lib\\site-packages (from requests<3.0.0.dev0,>=2.18.0->google-api-core!=2.0.*,!=2.1.*,!=2.2.*,!=2.3.0,<3.0.0,>=1.31.5->google-api-python-client) (2025.1.31)\n"
     ]
    }
   ],
   "source": [
    "! pip install --upgrade google-auth google-auth-oauthlib google-auth-httplib2 google-api-python-client"
   ]
  },
  {
   "cell_type": "code",
   "execution_count": null,
   "metadata": {},
   "outputs": [
    {
     "name": "stdout",
     "output_type": "stream",
     "text": [
      "Please visit this URL to authorize this application: https://accounts.google.com/o/oauth2/auth?response_type=code&client_id=653437262795-n82spk1e3erk6eskr5tp37hcpcebbpqt.apps.googleusercontent.com&redirect_uri=http%3A%2F%2Flocalhost%3A49298%2F&scope=https%3A%2F%2Fwww.googleapis.com%2Fauth%2Fgmail.readonly&state=ZEcYOVmpaAIL3KHC8RC4h1Mrol8N5K&access_type=offline\n",
      "Inbox Emails:\n",
      "- Your project graphic-avenue-453506-d0 has been shut down\n",
      "- Welcome to your Getting Started series\n",
      "- Great start! Here are Compute Engine resources just for you.\n",
      "- Harish babu // VA-760105 // 70$/hr on c2c // Mclean, VA\n",
      "- Hima Chaitanya Gudepu// NC-761627// Rate:$67/hr on C2C// Durham/NC\n",
      "- Vykunta Prasad // VA-760179 // 80$PER HR ON C2C // Chesterfield, VA\n",
      "- Vinoth // NC-761627 // Rate : 70$ on c2c // Morrisville, NC 27560\n",
      "- Annapoorna // NC-761627 // 70$PER HR ON C2C // Concord, NC\n",
      "- Dinesh Kumar // NC-761627 // 70$per/hr on c2c // Charlotte NC\n",
      "- Praful Santosh Surjuse//Rate :$70/hr on C2C//Charlotte, NC//NC-761627\n"
     ]
    }
   ],
   "source": [
    "'''\n",
    "\n",
    "\n",
    "\n",
    "from google.oauth2.credentials import Credentials\n",
    "from google_auth_oauthlib.flow import InstalledAppFlow\n",
    "from googleapiclient.discovery import build\n",
    "\n",
    "SCOPES = ['https://www.googleapis.com/auth/gmail.readonly']\n",
    "\n",
    "def main():\n",
    "    creds = None\n",
    "    flow = InstalledAppFlow.from_client_secrets_file(r\"C:\\Users\\andre\\Desktop\\VSCode\\gmail_project\\credentials1.json\", SCOPES)\n",
    "    creds = flow.run_local_server(port=0)\n",
    "\n",
    "    service = build(\"gmail\", \"v1\", credentials=creds)\n",
    "\n",
    "    results = service.users().messages().list(userId=\"me\", labelIds=[\"INBOX\"], maxResults=10).execute()\n",
    "    messages = results.get(\"messages\", [])\n",
    "\n",
    "    if not messages:\n",
    "        print(\"No Emails found in Inbox.\")\n",
    "    else:\n",
    "        print(\"Inbox Emails:\")\n",
    "        for msg in messages:\n",
    "            msg_data = service.users().messages().get(userId=\"me\", id=msg[\"id\"]).execute()\n",
    "            headers = msg_data[\"payload\"][\"headers\"]\n",
    "\n",
    "            # Correctly find the subject header\n",
    "            subject = next((header[\"value\"] for header in headers if header['name'] == \"Subject\"), \"No Subject\")\n",
    "            print(f\"- {subject}\")\n",
    "\n",
    "if __name__ == \"__main__\":\n",
    "    main()\n",
    "    \n",
    "    \n",
    "    \n",
    "'''"
   ]
  },
  {
   "cell_type": "code",
   "execution_count": null,
   "metadata": {},
   "outputs": [],
   "source": []
  },
  {
   "cell_type": "code",
   "execution_count": null,
   "metadata": {},
   "outputs": [
    {
     "name": "stdout",
     "output_type": "stream",
     "text": [
      "Please visit this URL to authorize this application: https://accounts.google.com/o/oauth2/auth?response_type=code&client_id=653437262795-n82spk1e3erk6eskr5tp37hcpcebbpqt.apps.googleusercontent.com&redirect_uri=http%3A%2F%2Flocalhost%3A49339%2F&scope=https%3A%2F%2Fwww.googleapis.com%2Fauth%2Fgmail.readonly&state=atbOFB3isnGEs6nPzxwWgLT7Cw4Xrx&access_type=offline\n",
      "Credentials saved to token.json\n"
     ]
    }
   ],
   "source": [
    "# Handle the authorization process and save the credentials to a file(token.json).\n",
    "\n",
    "'''\n",
    "\n",
    "from google.oauth2.credentials import Credentials\n",
    "from google_auth_oauthlib.flow import InstalledAppFlow\n",
    "from google.auth.transport.requests import Request\n",
    "import os\n",
    "\n",
    "# Define the scopes\n",
    "SCOPES = ['https://www.googleapis.com/auth/gmail.readonly']\n",
    "\n",
    "def authorize_and_save_credentials():\n",
    "    creds = None\n",
    "    # The file token.json stores the user's access and refresh tokens\n",
    "    if os.path.exists('token.json'):\n",
    "        creds = Credentials.from_authorized_user_file('token.json', SCOPES)\n",
    "    \n",
    "    # If there are no valid credentials, prompt the user to log in\n",
    "    if not creds or not creds.valid:\n",
    "        if creds and creds.expired and creds.refresh_token:\n",
    "            creds.refresh(Request())\n",
    "        else:\n",
    "            flow = InstalledAppFlow.from_client_secrets_file(\n",
    "                r\"C:\\Users\\andre\\Desktop\\VSCode\\gmail_project\\credentials1.json\", SCOPES)\n",
    "            creds = flow.run_local_server(port=0)\n",
    "        \n",
    "        # Save the credentials for the next run\n",
    "        with open('token.json', 'w') as token:\n",
    "            token.write(creds.to_json())\n",
    "\n",
    "    print(\"Credentials saved to token.json\")\n",
    "\n",
    "# Run the authorization process\n",
    "authorize_and_save_credentials()\n",
    "\n",
    "\n",
    "'''"
   ]
  },
  {
   "cell_type": "code",
   "execution_count": null,
   "metadata": {},
   "outputs": [],
   "source": []
  },
  {
   "cell_type": "code",
   "execution_count": 1,
   "metadata": {},
   "outputs": [
    {
     "name": "stdout",
     "output_type": "stream",
     "text": [
      "Please visit this URL to authorize this application: https://accounts.google.com/o/oauth2/auth?response_type=code&client_id=694490347160-89kjnd954tqdamdeldlvaopkphhjsgie.apps.googleusercontent.com&redirect_uri=http%3A%2F%2Flocalhost%3A8080%2F&scope=https%3A%2F%2Fwww.googleapis.com%2Fauth%2Fgmail.readonly&state=9z9x3MKQsB1AB33INKNDMR8lleKujB&access_type=offline\n",
      "✅ Token generated successfully!\n"
     ]
    }
   ],
   "source": [
    "from google.oauth2.credentials import Credentials\n",
    "from google_auth_oauthlib.flow import InstalledAppFlow\n",
    "from google.auth.transport.requests import Request\n",
    "import os\n",
    "\n",
    "SCOPES = ['https://www.googleapis.com/auth/gmail.readonly']\n",
    "\n",
    "def authorize_and_save_credentials():\n",
    "    creds = None\n",
    "    if os.path.exists('token.json'):\n",
    "        creds = Credentials.from_authorized_user_file('token.json', SCOPES)\n",
    "    \n",
    "    if not creds or not creds.valid:\n",
    "        if creds and creds.expired and creds.refresh_token:\n",
    "            creds.refresh(Request())\n",
    "        else:\n",
    "            flow = InstalledAppFlow.from_client_secrets_file(\n",
    "                'credentials1.json',  # or 'credentials.json'\n",
    "                SCOPES,\n",
    "                redirect_uri='http://localhost:8080'  # Explicit redirect\n",
    "            )\n",
    "            creds = flow.run_local_server(port=8080)  # Port must match\n",
    "        \n",
    "        with open('token.json', 'w') as token:\n",
    "            token.write(creds.to_json())\n",
    "        print(\"✅ Token generated successfully!\")\n",
    "\n",
    "if __name__ == '__main__':\n",
    "    authorize_and_save_credentials()"
   ]
  },
  {
   "cell_type": "code",
   "execution_count": null,
   "metadata": {},
   "outputs": [],
   "source": []
  },
  {
   "cell_type": "code",
   "execution_count": 1,
   "metadata": {},
   "outputs": [
    {
     "name": "stdout",
     "output_type": "stream",
     "text": [
      "Please visit this URL to authorize this application: https://accounts.google.com/o/oauth2/auth?response_type=code&client_id=91245535946-b7brnm59h1v2bl0iud4vccd0k9a6otdk.apps.googleusercontent.com&redirect_uri=http%3A%2F%2Flocalhost%3A8080%2F&scope=https%3A%2F%2Fwww.googleapis.com%2Fauth%2Fgmail.readonly&state=glBnHywk0JnVWDoIjb3qKExMJiLPY0&access_type=offline\n",
      "✅ Token generated successfully!\n"
     ]
    }
   ],
   "source": [
    "from google.oauth2.credentials import Credentials\n",
    "from google_auth_oauthlib.flow import InstalledAppFlow\n",
    "from google.auth.transport.requests import Request\n",
    "import os\n",
    "\n",
    "SCOPES = ['https://www.googleapis.com/auth/gmail.readonly']\n",
    "\n",
    "def authorize_and_save_credentials():\n",
    "    creds = None\n",
    "    if os.path.exists('token1.json'):\n",
    "        creds = Credentials.from_authorized_user_file('token1.json', SCOPES)\n",
    "    \n",
    "    if not creds or not creds.valid:\n",
    "        if creds and creds.expired and creds.refresh_token:\n",
    "            creds.refresh(Request())\n",
    "        else:\n",
    "            flow = InstalledAppFlow.from_client_secrets_file(\n",
    "                'credentials.json',  # or 'credentials.json'\n",
    "                SCOPES,\n",
    "                redirect_uri='http://localhost:8080'  # Explicit redirect\n",
    "            )\n",
    "            creds = flow.run_local_server(port=8080)  # Port must match\n",
    "        \n",
    "        with open('token1.json', 'w') as token:\n",
    "            token.write(creds.to_json())\n",
    "        print(\"✅ Token generated successfully!\")\n",
    "\n",
    "if __name__ == '__main__':\n",
    "    authorize_and_save_credentials()"
   ]
  },
  {
   "cell_type": "code",
   "execution_count": null,
   "metadata": {},
   "outputs": [],
   "source": []
  }
 ],
 "metadata": {
  "kernelspec": {
   "display_name": "rsp_env",
   "language": "python",
   "name": "python3"
  },
  "language_info": {
   "codemirror_mode": {
    "name": "ipython",
    "version": 3
   },
   "file_extension": ".py",
   "mimetype": "text/x-python",
   "name": "python",
   "nbconvert_exporter": "python",
   "pygments_lexer": "ipython3",
   "version": "3.10.16"
  }
 },
 "nbformat": 4,
 "nbformat_minor": 2
}
